{
 "cells": [
  {
   "cell_type": "code",
   "execution_count": 1,
   "metadata": {},
   "outputs": [
    {
     "name": "stderr",
     "output_type": "stream",
     "text": [
      "2023-12-27 13:42:56.711489: I external/local_tsl/tsl/cuda/cudart_stub.cc:31] Could not find cuda drivers on your machine, GPU will not be used.\n",
      "2023-12-27 13:42:56.805150: E external/local_xla/xla/stream_executor/cuda/cuda_dnn.cc:9261] Unable to register cuDNN factory: Attempting to register factory for plugin cuDNN when one has already been registered\n",
      "2023-12-27 13:42:56.805206: E external/local_xla/xla/stream_executor/cuda/cuda_fft.cc:607] Unable to register cuFFT factory: Attempting to register factory for plugin cuFFT when one has already been registered\n",
      "2023-12-27 13:42:56.807833: E external/local_xla/xla/stream_executor/cuda/cuda_blas.cc:1515] Unable to register cuBLAS factory: Attempting to register factory for plugin cuBLAS when one has already been registered\n",
      "2023-12-27 13:42:56.820904: I external/local_tsl/tsl/cuda/cudart_stub.cc:31] Could not find cuda drivers on your machine, GPU will not be used.\n",
      "2023-12-27 13:42:56.821561: I tensorflow/core/platform/cpu_feature_guard.cc:182] This TensorFlow binary is optimized to use available CPU instructions in performance-critical operations.\n",
      "To enable the following instructions: AVX2 FMA, in other operations, rebuild TensorFlow with the appropriate compiler flags.\n",
      "2023-12-27 13:42:58.588091: W tensorflow/compiler/tf2tensorrt/utils/py_utils.cc:38] TF-TRT Warning: Could not find TensorRT\n"
     ]
    }
   ],
   "source": [
    "import tensorflow as tf\n",
    "import pandas as pd"
   ]
  },
  {
   "cell_type": "code",
   "execution_count": 2,
   "metadata": {},
   "outputs": [
    {
     "data": {
      "text/plain": [
       "Index(['cap-shape', 'cap-surface', 'cap-color', 'bruises', 'odor',\n",
       "       'gill-attachment', 'gill-spacing', 'gill-size', 'gill-color',\n",
       "       'stalk-shape', 'stalk-root', 'stalk-surface-above-ring',\n",
       "       'stalk-surface-below-ring', 'stalk-color-above-ring',\n",
       "       'stalk-color-below-ring', 'veil-type', 'veil-color', 'ring-number',\n",
       "       'ring-type', 'spore-print-color', 'population', 'habitat'],\n",
       "      dtype='object')"
      ]
     },
     "execution_count": 2,
     "metadata": {},
     "output_type": "execute_result"
    }
   ],
   "source": [
    "dftrain = pd.read_csv(\"dataset/mushrooms.csv\")\n",
    "y_train = dftrain.pop(\"class\")\n",
    "dftrain.keys()"
   ]
  },
  {
   "cell_type": "code",
   "execution_count": 7,
   "metadata": {},
   "outputs": [
    {
     "data": {
      "text/plain": [
       "0       1\n",
       "1       0\n",
       "2       0\n",
       "3       1\n",
       "4       0\n",
       "       ..\n",
       "8119    0\n",
       "8120    0\n",
       "8121    0\n",
       "8122    1\n",
       "8123    0\n",
       "Name: class, Length: 8124, dtype: int64"
      ]
     },
     "execution_count": 7,
     "metadata": {},
     "output_type": "execute_result"
    }
   ],
   "source": [
    "y_train.replace([\"e\", \"p\"], [0, 1], inplace=True)\n",
    "y_train"
   ]
  },
  {
   "cell_type": "code",
   "execution_count": 13,
   "metadata": {},
   "outputs": [
    {
     "name": "stdout",
     "output_type": "stream",
     "text": [
      "WARNING:tensorflow:From /tmp/ipykernel_6235/2636144310.py:5: indicator_column (from tensorflow.python.feature_column.feature_column_v2) is deprecated and will be removed in a future version.\n",
      "Instructions for updating:\n",
      "Use Keras preprocessing layers instead, either directly or via the `tf.keras.utils.FeatureSpace` utility. Each of `tf.feature_column.*` has a functional equivalent in `tf.keras.layers` for feature preprocessing when training a Keras model.\n"
     ]
    },
    {
     "data": {
      "text/plain": [
       "[IndicatorColumn(categorical_column=VocabularyListCategoricalColumn(key='cap-shape', vocabulary_list=('x', 'b', 's', 'f', 'k', 'c'), dtype=tf.string, default_value=-1, num_oov_buckets=0)),\n",
       " IndicatorColumn(categorical_column=VocabularyListCategoricalColumn(key='cap-surface', vocabulary_list=('s', 'y', 'f', 'g'), dtype=tf.string, default_value=-1, num_oov_buckets=0)),\n",
       " IndicatorColumn(categorical_column=VocabularyListCategoricalColumn(key='cap-color', vocabulary_list=('n', 'y', 'w', 'g', 'e', 'p', 'b', 'u', 'c', 'r'), dtype=tf.string, default_value=-1, num_oov_buckets=0)),\n",
       " IndicatorColumn(categorical_column=VocabularyListCategoricalColumn(key='bruises', vocabulary_list=('t', 'f'), dtype=tf.string, default_value=-1, num_oov_buckets=0)),\n",
       " IndicatorColumn(categorical_column=VocabularyListCategoricalColumn(key='odor', vocabulary_list=('p', 'a', 'l', 'n', 'f', 'c', 'y', 's', 'm'), dtype=tf.string, default_value=-1, num_oov_buckets=0)),\n",
       " IndicatorColumn(categorical_column=VocabularyListCategoricalColumn(key='gill-attachment', vocabulary_list=('f', 'a'), dtype=tf.string, default_value=-1, num_oov_buckets=0)),\n",
       " IndicatorColumn(categorical_column=VocabularyListCategoricalColumn(key='gill-spacing', vocabulary_list=('c', 'w'), dtype=tf.string, default_value=-1, num_oov_buckets=0)),\n",
       " IndicatorColumn(categorical_column=VocabularyListCategoricalColumn(key='gill-size', vocabulary_list=('n', 'b'), dtype=tf.string, default_value=-1, num_oov_buckets=0)),\n",
       " IndicatorColumn(categorical_column=VocabularyListCategoricalColumn(key='gill-color', vocabulary_list=('k', 'n', 'g', 'p', 'w', 'h', 'u', 'e', 'b', 'r', 'y', 'o'), dtype=tf.string, default_value=-1, num_oov_buckets=0)),\n",
       " IndicatorColumn(categorical_column=VocabularyListCategoricalColumn(key='stalk-shape', vocabulary_list=('e', 't'), dtype=tf.string, default_value=-1, num_oov_buckets=0)),\n",
       " IndicatorColumn(categorical_column=VocabularyListCategoricalColumn(key='stalk-root', vocabulary_list=('e', 'c', 'b', 'r', '?'), dtype=tf.string, default_value=-1, num_oov_buckets=0)),\n",
       " IndicatorColumn(categorical_column=VocabularyListCategoricalColumn(key='stalk-surface-above-ring', vocabulary_list=('s', 'f', 'k', 'y'), dtype=tf.string, default_value=-1, num_oov_buckets=0)),\n",
       " IndicatorColumn(categorical_column=VocabularyListCategoricalColumn(key='stalk-surface-below-ring', vocabulary_list=('s', 'f', 'y', 'k'), dtype=tf.string, default_value=-1, num_oov_buckets=0)),\n",
       " IndicatorColumn(categorical_column=VocabularyListCategoricalColumn(key='stalk-color-above-ring', vocabulary_list=('w', 'g', 'p', 'n', 'b', 'e', 'o', 'c', 'y'), dtype=tf.string, default_value=-1, num_oov_buckets=0)),\n",
       " IndicatorColumn(categorical_column=VocabularyListCategoricalColumn(key='stalk-color-below-ring', vocabulary_list=('w', 'p', 'g', 'b', 'n', 'e', 'y', 'o', 'c'), dtype=tf.string, default_value=-1, num_oov_buckets=0)),\n",
       " IndicatorColumn(categorical_column=VocabularyListCategoricalColumn(key='veil-type', vocabulary_list=('p',), dtype=tf.string, default_value=-1, num_oov_buckets=0)),\n",
       " IndicatorColumn(categorical_column=VocabularyListCategoricalColumn(key='veil-color', vocabulary_list=('w', 'n', 'o', 'y'), dtype=tf.string, default_value=-1, num_oov_buckets=0)),\n",
       " IndicatorColumn(categorical_column=VocabularyListCategoricalColumn(key='ring-number', vocabulary_list=('o', 't', 'n'), dtype=tf.string, default_value=-1, num_oov_buckets=0)),\n",
       " IndicatorColumn(categorical_column=VocabularyListCategoricalColumn(key='ring-type', vocabulary_list=('p', 'e', 'l', 'f', 'n'), dtype=tf.string, default_value=-1, num_oov_buckets=0)),\n",
       " IndicatorColumn(categorical_column=VocabularyListCategoricalColumn(key='spore-print-color', vocabulary_list=('k', 'n', 'u', 'h', 'w', 'r', 'o', 'y', 'b'), dtype=tf.string, default_value=-1, num_oov_buckets=0)),\n",
       " IndicatorColumn(categorical_column=VocabularyListCategoricalColumn(key='population', vocabulary_list=('s', 'n', 'a', 'v', 'y', 'c'), dtype=tf.string, default_value=-1, num_oov_buckets=0)),\n",
       " IndicatorColumn(categorical_column=VocabularyListCategoricalColumn(key='habitat', vocabulary_list=('u', 'g', 'm', 'd', 'p', 'w', 'l'), dtype=tf.string, default_value=-1, num_oov_buckets=0))]"
      ]
     },
     "execution_count": 13,
     "metadata": {},
     "output_type": "execute_result"
    }
   ],
   "source": [
    "feature_columns = []\n",
    "for feature_name in dftrain.keys():\n",
    "  vocabulary = dftrain[feature_name].unique()\n",
    "  temp = tf.feature_column.categorical_column_with_vocabulary_list(feature_name, vocabulary)\n",
    "  feature_columns.append(tf.feature_column.indicator_column(temp))\n",
    "  \n",
    "feature_columns"
   ]
  },
  {
   "cell_type": "code",
   "execution_count": 18,
   "metadata": {},
   "outputs": [],
   "source": [
    "def input_fn(data_df, label_df, shuffle=True, batch_size=256):\n",
    "    ds = tf.data.Dataset.from_tensor_slices((dict(data_df), label_df))\n",
    "    if shuffle:\n",
    "        ds = ds.shuffle(1000).repeat()\n",
    "    ds = ds.batch(batch_size)\n",
    "    return ds"
   ]
  },
  {
   "cell_type": "code",
   "execution_count": 19,
   "metadata": {},
   "outputs": [
    {
     "name": "stdout",
     "output_type": "stream",
     "text": [
      "INFO:tensorflow:Using default config.\n",
      "WARNING:tensorflow:Using temporary folder as model directory: /tmp/tmpzh37ljpu\n",
      "INFO:tensorflow:Using config: {'_model_dir': '/tmp/tmpzh37ljpu', '_tf_random_seed': None, '_save_summary_steps': 100, '_save_checkpoints_steps': None, '_save_checkpoints_secs': 600, '_session_config': allow_soft_placement: true\n",
      "graph_options {\n",
      "  rewrite_options {\n",
      "    meta_optimizer_iterations: ONE\n",
      "  }\n",
      "}\n",
      ", '_keep_checkpoint_max': 5, '_keep_checkpoint_every_n_hours': 10000, '_log_step_count_steps': 100, '_train_distribute': None, '_device_fn': None, '_protocol': None, '_eval_distribute': None, '_experimental_distribute': None, '_experimental_max_worker_delay_secs': None, '_session_creation_timeout_secs': 7200, '_checkpoint_save_graph_def': True, '_service': None, '_cluster_spec': ClusterSpec({}), '_task_type': 'worker', '_task_id': 0, '_global_id_in_cluster': 0, '_master': '', '_evaluation_master': '', '_is_chief': True, '_num_ps_replicas': 0, '_num_worker_replicas': 1}\n"
     ]
    }
   ],
   "source": [
    "classifier = tf.estimator.DNNClassifier(feature_columns=feature_columns, hidden_units=[30, 20, 10], n_classes=3)"
   ]
  },
  {
   "cell_type": "code",
   "execution_count": 20,
   "metadata": {},
   "outputs": [
    {
     "name": "stdout",
     "output_type": "stream",
     "text": [
      "INFO:tensorflow:Calling model_fn.\n",
      "INFO:tensorflow:Done calling model_fn.\n",
      "INFO:tensorflow:Create CheckpointSaverHook.\n",
      "INFO:tensorflow:Graph was finalized.\n"
     ]
    },
    {
     "name": "stderr",
     "output_type": "stream",
     "text": [
      "2023-12-27 14:03:11.962732: I external/local_xla/xla/stream_executor/cuda/cuda_executor.cc:901] successful NUMA node read from SysFS had negative value (-1), but there must be at least one NUMA node, so returning NUMA node zero. See more at https://github.com/torvalds/linux/blob/v6.0/Documentation/ABI/testing/sysfs-bus-pci#L344-L355\n",
      "2023-12-27 14:03:11.963148: W tensorflow/core/common_runtime/gpu/gpu_device.cc:2256] Cannot dlopen some GPU libraries. Please make sure the missing libraries mentioned above are installed properly if you would like to use GPU. Follow the guide at https://www.tensorflow.org/install/gpu for how to download and setup the required libraries for your platform.\n",
      "Skipping registering GPU devices...\n"
     ]
    },
    {
     "name": "stdout",
     "output_type": "stream",
     "text": [
      "INFO:tensorflow:Running local_init_op.\n",
      "INFO:tensorflow:Done running local_init_op.\n",
      "INFO:tensorflow:Calling checkpoint listeners before saving checkpoint 0...\n",
      "INFO:tensorflow:Saving checkpoints for 0 into /tmp/tmpzh37ljpu/model.ckpt.\n",
      "INFO:tensorflow:Calling checkpoint listeners after saving checkpoint 0...\n",
      "INFO:tensorflow:loss = 1.3674226, step = 0\n",
      "INFO:tensorflow:global_step/sec: 128.356\n",
      "INFO:tensorflow:loss = 1.1656517, step = 100 (0.781 sec)\n",
      "INFO:tensorflow:global_step/sec: 196.375\n",
      "INFO:tensorflow:loss = 1.0954375, step = 200 (0.508 sec)\n",
      "INFO:tensorflow:global_step/sec: 170.083\n",
      "INFO:tensorflow:loss = 0.9701333, step = 300 (0.590 sec)\n",
      "INFO:tensorflow:global_step/sec: 164.229\n",
      "INFO:tensorflow:loss = 0.8947263, step = 400 (0.607 sec)\n",
      "INFO:tensorflow:global_step/sec: 142.671\n",
      "INFO:tensorflow:loss = 0.9372361, step = 500 (0.705 sec)\n",
      "INFO:tensorflow:global_step/sec: 152.571\n",
      "INFO:tensorflow:loss = 0.9366854, step = 600 (0.653 sec)\n",
      "INFO:tensorflow:global_step/sec: 117.378\n",
      "INFO:tensorflow:loss = 1.0692413, step = 700 (0.853 sec)\n",
      "INFO:tensorflow:global_step/sec: 158.233\n",
      "INFO:tensorflow:loss = 1.040021, step = 800 (0.630 sec)\n",
      "INFO:tensorflow:global_step/sec: 182.351\n",
      "INFO:tensorflow:loss = 0.8940502, step = 900 (0.548 sec)\n",
      "INFO:tensorflow:global_step/sec: 140.552\n",
      "INFO:tensorflow:loss = 0.6324489, step = 1000 (0.712 sec)\n",
      "INFO:tensorflow:global_step/sec: 171.679\n",
      "INFO:tensorflow:loss = 0.60956484, step = 1100 (0.583 sec)\n",
      "INFO:tensorflow:global_step/sec: 148.495\n",
      "INFO:tensorflow:loss = 0.63426435, step = 1200 (0.673 sec)\n",
      "INFO:tensorflow:global_step/sec: 127.551\n",
      "INFO:tensorflow:loss = 0.63448954, step = 1300 (0.784 sec)\n",
      "INFO:tensorflow:global_step/sec: 192.642\n",
      "INFO:tensorflow:loss = 0.92520595, step = 1400 (0.519 sec)\n",
      "INFO:tensorflow:global_step/sec: 192.261\n",
      "INFO:tensorflow:loss = 0.7834441, step = 1500 (0.520 sec)\n",
      "INFO:tensorflow:global_step/sec: 194.846\n",
      "INFO:tensorflow:loss = 0.5312824, step = 1600 (0.513 sec)\n",
      "INFO:tensorflow:global_step/sec: 138.361\n",
      "INFO:tensorflow:loss = 0.48669216, step = 1700 (0.726 sec)\n",
      "INFO:tensorflow:global_step/sec: 115.994\n",
      "INFO:tensorflow:loss = 0.39069217, step = 1800 (0.860 sec)\n",
      "INFO:tensorflow:global_step/sec: 141.617\n",
      "INFO:tensorflow:loss = 0.42459834, step = 1900 (0.705 sec)\n",
      "INFO:tensorflow:global_step/sec: 121.695\n",
      "INFO:tensorflow:loss = 0.7727102, step = 2000 (0.822 sec)\n",
      "INFO:tensorflow:global_step/sec: 137.559\n",
      "INFO:tensorflow:loss = 0.68544734, step = 2100 (0.728 sec)\n",
      "INFO:tensorflow:global_step/sec: 151.484\n",
      "INFO:tensorflow:loss = 0.55192685, step = 2200 (0.660 sec)\n",
      "INFO:tensorflow:global_step/sec: 141.14\n",
      "INFO:tensorflow:loss = 0.32005408, step = 2300 (0.708 sec)\n",
      "INFO:tensorflow:global_step/sec: 116.426\n",
      "INFO:tensorflow:loss = 0.4022595, step = 2400 (0.860 sec)\n",
      "INFO:tensorflow:global_step/sec: 99.7073\n",
      "INFO:tensorflow:loss = 0.3191567, step = 2500 (1.002 sec)\n",
      "INFO:tensorflow:global_step/sec: 88.8731\n",
      "INFO:tensorflow:loss = 0.32202974, step = 2600 (1.132 sec)\n",
      "INFO:tensorflow:global_step/sec: 104.683\n",
      "INFO:tensorflow:loss = 0.5737571, step = 2700 (0.948 sec)\n",
      "INFO:tensorflow:global_step/sec: 105.442\n",
      "INFO:tensorflow:loss = 0.45421997, step = 2800 (0.949 sec)\n",
      "INFO:tensorflow:global_step/sec: 118.545\n",
      "INFO:tensorflow:loss = 0.35902703, step = 2900 (0.844 sec)\n",
      "INFO:tensorflow:global_step/sec: 105.966\n",
      "INFO:tensorflow:loss = 0.25014403, step = 3000 (0.946 sec)\n",
      "INFO:tensorflow:global_step/sec: 99.3264\n",
      "INFO:tensorflow:loss = 0.23026228, step = 3100 (1.004 sec)\n",
      "INFO:tensorflow:global_step/sec: 124.061\n",
      "INFO:tensorflow:loss = 0.22572884, step = 3200 (0.805 sec)\n",
      "INFO:tensorflow:global_step/sec: 110.892\n",
      "INFO:tensorflow:loss = 0.38309652, step = 3300 (0.902 sec)\n",
      "INFO:tensorflow:global_step/sec: 131.053\n",
      "INFO:tensorflow:loss = 0.39188182, step = 3400 (0.763 sec)\n",
      "INFO:tensorflow:global_step/sec: 158.238\n",
      "INFO:tensorflow:loss = 0.29364696, step = 3500 (0.632 sec)\n",
      "INFO:tensorflow:global_step/sec: 149.694\n",
      "INFO:tensorflow:loss = 0.17633468, step = 3600 (0.668 sec)\n",
      "INFO:tensorflow:global_step/sec: 153.558\n",
      "INFO:tensorflow:loss = 0.29739612, step = 3700 (0.651 sec)\n",
      "INFO:tensorflow:global_step/sec: 156.182\n",
      "INFO:tensorflow:loss = 0.15032303, step = 3800 (0.640 sec)\n",
      "INFO:tensorflow:global_step/sec: 125.844\n",
      "INFO:tensorflow:loss = 0.17392275, step = 3900 (0.794 sec)\n",
      "INFO:tensorflow:global_step/sec: 150.547\n",
      "INFO:tensorflow:loss = 0.3371971, step = 4000 (0.665 sec)\n",
      "INFO:tensorflow:global_step/sec: 164.854\n",
      "INFO:tensorflow:loss = 0.24806035, step = 4100 (0.607 sec)\n",
      "INFO:tensorflow:global_step/sec: 172.897\n",
      "INFO:tensorflow:loss = 0.21280646, step = 4200 (0.577 sec)\n",
      "INFO:tensorflow:global_step/sec: 129.47\n",
      "INFO:tensorflow:loss = 0.18353683, step = 4300 (0.773 sec)\n",
      "INFO:tensorflow:global_step/sec: 146.446\n",
      "INFO:tensorflow:loss = 0.16631909, step = 4400 (0.682 sec)\n",
      "INFO:tensorflow:global_step/sec: 160.625\n",
      "INFO:tensorflow:loss = 0.12100166, step = 4500 (0.622 sec)\n",
      "INFO:tensorflow:global_step/sec: 172.25\n",
      "INFO:tensorflow:loss = 0.12721923, step = 4600 (0.581 sec)\n",
      "INFO:tensorflow:global_step/sec: 173.893\n",
      "INFO:tensorflow:loss = 0.2289859, step = 4700 (0.575 sec)\n",
      "INFO:tensorflow:global_step/sec: 175.684\n",
      "INFO:tensorflow:loss = 0.15499836, step = 4800 (0.569 sec)\n",
      "INFO:tensorflow:global_step/sec: 174.169\n",
      "INFO:tensorflow:loss = 0.12635535, step = 4900 (0.574 sec)\n",
      "INFO:tensorflow:Calling checkpoint listeners before saving checkpoint 5000...\n",
      "INFO:tensorflow:Saving checkpoints for 5000 into /tmp/tmpzh37ljpu/model.ckpt.\n",
      "INFO:tensorflow:Calling checkpoint listeners after saving checkpoint 5000...\n",
      "INFO:tensorflow:Loss for final step: 0.12526518.\n"
     ]
    },
    {
     "data": {
      "text/plain": [
       "<tensorflow_estimator.python.estimator.canned.dnn.DNNClassifierV2 at 0x7f49969ccc50>"
      ]
     },
     "execution_count": 20,
     "metadata": {},
     "output_type": "execute_result"
    }
   ],
   "source": [
    "classifier.train(input_fn=lambda: input_fn(dftrain, y_train), steps=5000)"
   ]
  },
  {
   "cell_type": "code",
   "execution_count": 22,
   "metadata": {},
   "outputs": [
    {
     "name": "stdout",
     "output_type": "stream",
     "text": [
      "INFO:tensorflow:Calling model_fn.\n",
      "INFO:tensorflow:Done calling model_fn.\n",
      "INFO:tensorflow:Starting evaluation at 2023-12-27T14:04:37\n",
      "INFO:tensorflow:Graph was finalized.\n",
      "INFO:tensorflow:Restoring parameters from /tmp/tmpzh37ljpu/model.ckpt-5000\n"
     ]
    },
    {
     "name": "stderr",
     "output_type": "stream",
     "text": [
      "2023-12-27 14:04:37.978534: I external/local_xla/xla/stream_executor/cuda/cuda_executor.cc:901] successful NUMA node read from SysFS had negative value (-1), but there must be at least one NUMA node, so returning NUMA node zero. See more at https://github.com/torvalds/linux/blob/v6.0/Documentation/ABI/testing/sysfs-bus-pci#L344-L355\n",
      "2023-12-27 14:04:37.978913: W tensorflow/core/common_runtime/gpu/gpu_device.cc:2256] Cannot dlopen some GPU libraries. Please make sure the missing libraries mentioned above are installed properly if you would like to use GPU. Follow the guide at https://www.tensorflow.org/install/gpu for how to download and setup the required libraries for your platform.\n",
      "Skipping registering GPU devices...\n"
     ]
    },
    {
     "name": "stdout",
     "output_type": "stream",
     "text": [
      "INFO:tensorflow:Running local_init_op.\n",
      "INFO:tensorflow:Done running local_init_op.\n",
      "INFO:tensorflow:Inference Time : 1.89573s\n",
      "INFO:tensorflow:Finished evaluation at 2023-12-27-14:04:39\n",
      "INFO:tensorflow:Saving dict for global step 5000: accuracy = 0.9817824, average_loss = 0.14912105, global_step = 5000, loss = 0.14895736\n",
      "INFO:tensorflow:Saving 'checkpoint_path' summary for global step 5000: /tmp/tmpzh37ljpu/model.ckpt-5000\n"
     ]
    },
    {
     "data": {
      "text/plain": [
       "0.9817824"
      ]
     },
     "execution_count": 22,
     "metadata": {},
     "output_type": "execute_result"
    }
   ],
   "source": [
    "dfeval = dftrain\n",
    "y_eval = y_train\n",
    "result = classifier.evaluate(input_fn=lambda: input_fn(dfeval, y_eval, shuffle=False))\n",
    "result[\"accuracy\"]"
   ]
  },
  {
   "cell_type": "code",
   "execution_count": 23,
   "metadata": {},
   "outputs": [
    {
     "name": "stdout",
     "output_type": "stream",
     "text": [
      "WARNING:tensorflow:From /tmp/ipykernel_6235/2621947936.py:2: make_parse_example_spec_v2 (from tensorflow.python.feature_column.feature_column_v2) is deprecated and will be removed in a future version.\n",
      "Instructions for updating:\n",
      "Use Keras preprocessing layers instead, either directly or via the `tf.keras.utils.FeatureSpace` utility. Each of `tf.feature_column.*` has a functional equivalent in `tf.keras.layers` for feature preprocessing when training a Keras model.\n",
      "WARNING:tensorflow:From /tmp/ipykernel_6235/2621947936.py:1: build_parsing_serving_input_receiver_fn (from tensorflow_estimator.python.estimator.export.export) is deprecated and will be removed in a future version.\n",
      "Instructions for updating:\n",
      "Use tf.keras instead.\n",
      "WARNING:tensorflow:From /home/linn/miniconda3/envs/tf2/lib/python3.11/site-packages/tensorflow_estimator/python/estimator/export/export.py:312: ServingInputReceiver.__new__ (from tensorflow_estimator.python.estimator.export.export) is deprecated and will be removed in a future version.\n",
      "Instructions for updating:\n",
      "Use tf.keras instead.\n",
      "INFO:tensorflow:Calling model_fn.\n",
      "WARNING:tensorflow:From /home/linn/miniconda3/envs/tf2/lib/python3.11/site-packages/tensorflow_estimator/python/estimator/head/base_head.py:786: ClassificationOutput.__init__ (from tensorflow.python.saved_model.model_utils.export_output) is deprecated and will be removed in a future version.\n",
      "Instructions for updating:\n",
      "Use tf.keras instead.\n",
      "WARNING:tensorflow:From /home/linn/miniconda3/envs/tf2/lib/python3.11/site-packages/tensorflow_estimator/python/estimator/head/multi_class_head.py:455: PredictOutput.__init__ (from tensorflow.python.saved_model.model_utils.export_output) is deprecated and will be removed in a future version.\n",
      "Instructions for updating:\n",
      "Use tf.keras instead.\n",
      "INFO:tensorflow:Done calling model_fn.\n",
      "WARNING:tensorflow:From /home/linn/miniconda3/envs/tf2/lib/python3.11/site-packages/tensorflow/python/saved_model/signature_def_utils_impl.py:168: build_tensor_info (from tensorflow.python.saved_model.utils_impl) is deprecated and will be removed in a future version.\n",
      "Instructions for updating:\n",
      "This API was designed for TensorFlow v1. See https://www.tensorflow.org/guide/migrate for instructions on how to migrate your code to TensorFlow v2.\n",
      "WARNING:tensorflow:From /home/linn/miniconda3/envs/tf2/lib/python3.11/site-packages/tensorflow/python/saved_model/model_utils/export_utils.py:83: get_tensor_from_tensor_info (from tensorflow.python.saved_model.utils_impl) is deprecated and will be removed in a future version.\n",
      "Instructions for updating:\n",
      "This API was designed for TensorFlow v1. See https://www.tensorflow.org/guide/migrate for instructions on how to migrate your code to TensorFlow v2.\n",
      "INFO:tensorflow:Signatures INCLUDED in export for Classify: ['serving_default', 'classification']\n",
      "INFO:tensorflow:Signatures INCLUDED in export for Regress: None\n",
      "INFO:tensorflow:Signatures INCLUDED in export for Predict: ['predict']\n",
      "INFO:tensorflow:Signatures INCLUDED in export for Train: None\n",
      "INFO:tensorflow:Signatures INCLUDED in export for Eval: None\n",
      "INFO:tensorflow:Restoring parameters from /tmp/tmpzh37ljpu/model.ckpt-5000\n"
     ]
    },
    {
     "name": "stderr",
     "output_type": "stream",
     "text": [
      "2023-12-27 14:05:17.089777: I external/local_xla/xla/stream_executor/cuda/cuda_executor.cc:901] successful NUMA node read from SysFS had negative value (-1), but there must be at least one NUMA node, so returning NUMA node zero. See more at https://github.com/torvalds/linux/blob/v6.0/Documentation/ABI/testing/sysfs-bus-pci#L344-L355\n",
      "2023-12-27 14:05:17.094768: W tensorflow/core/common_runtime/gpu/gpu_device.cc:2256] Cannot dlopen some GPU libraries. Please make sure the missing libraries mentioned above are installed properly if you would like to use GPU. Follow the guide at https://www.tensorflow.org/install/gpu for how to download and setup the required libraries for your platform.\n",
      "Skipping registering GPU devices...\n"
     ]
    },
    {
     "name": "stdout",
     "output_type": "stream",
     "text": [
      "INFO:tensorflow:Assets added to graph.\n",
      "INFO:tensorflow:No assets to write.\n",
      "INFO:tensorflow:SavedModel written to: model/temp-1703662515/saved_model.pb\n"
     ]
    }
   ],
   "source": [
    "serving_input_fn = tf.estimator.export.build_parsing_serving_input_receiver_fn(\n",
    "  tf.feature_column.make_parse_example_spec(feature_columns=feature_columns))\n",
    "\n",
    "estimator_path = classifier.export_saved_model(\"model/\", serving_input_fn)"
   ]
  }
 ],
 "metadata": {
  "kernelspec": {
   "display_name": "tf2",
   "language": "python",
   "name": "python3"
  },
  "language_info": {
   "codemirror_mode": {
    "name": "ipython",
    "version": 3
   },
   "file_extension": ".py",
   "mimetype": "text/x-python",
   "name": "python",
   "nbconvert_exporter": "python",
   "pygments_lexer": "ipython3",
   "version": "3.11.5"
  }
 },
 "nbformat": 4,
 "nbformat_minor": 2
}
