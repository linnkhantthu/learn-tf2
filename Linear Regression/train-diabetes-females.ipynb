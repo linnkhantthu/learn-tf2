{
 "cells": [
  {
   "cell_type": "code",
   "execution_count": null,
   "id": "a4aae2b4",
   "metadata": {},
   "outputs": [],
   "source": [
    "import pandas as pd\n",
    "import tensorflow as tf\n",
    "from IPython.display import clear_output"
   ]
  },
  {
   "cell_type": "code",
   "execution_count": null,
   "id": "d36378c5",
   "metadata": {},
   "outputs": [],
   "source": [
    "dftrain = pd.read_csv(\"datasets/diabetes-dataset-females/diabetes.csv\")\n",
    "y_train = dftrain.pop(\"Outcome\")\n",
    "\n",
    "dfeval = dftrain\n",
    "y_eval = y_train\n",
    "\n",
    "dfeval"
   ]
  },
  {
   "cell_type": "code",
   "execution_count": null,
   "id": "e40793ae",
   "metadata": {},
   "outputs": [],
   "source": [
    "feature_columns = []\n",
    "CATEGORICAL_COLUMNS = []\n",
    "NUMERICAL_COLUMNS = [\"Pregnancies\",\t\"Glucose\",\t\"BloodPressure\",\n",
    "                     \"SkinThickness\",\t\"Insulin\",\t\"BMI\",\t\"DiabetesPedigreeFunction\",\t\"Age\"]\n",
    "for feature_name in CATEGORICAL_COLUMNS:\n",
    "    vocabulary = dftrain[feature_name].unique()\n",
    "    feature_columns.append(tf.feature_column.categorical_column_with_vocabulary_list(feature_name, vocabulary))\n",
    "for feature_name in NUMERICAL_COLUMNS:\n",
    "    feature_columns.append(tf.feature_column.numeric_column(feature_name, dtype=tf.float32))\n",
    "\n",
    "feature_columns"
   ]
  },
  {
   "cell_type": "code",
   "execution_count": null,
   "id": "ad4d6506",
   "metadata": {},
   "outputs": [],
   "source": [
    "def make_input_fn(data_df, label_df, shuffle=True, num_epochs=10, batch_size=32):\n",
    "    def input_fn():\n",
    "        ds = tf.data.Dataset.from_tensor_slices((dict(data_df), label_df))\n",
    "        if shuffle:\n",
    "            ds = ds.shuffle(1000)\n",
    "        ds = ds.batch(batch_size).repeat(num_epochs)\n",
    "        return ds\n",
    "    return input_fn"
   ]
  },
  {
   "cell_type": "code",
   "execution_count": null,
   "id": "66edf252",
   "metadata": {},
   "outputs": [],
   "source": [
    "train_input_fn = make_input_fn(dftrain, y_train)\n",
    "eval_input_fn = make_input_fn(dfeval, y_eval, True, 1)\n",
    "linear_est = tf.estimator.LinearClassifier(feature_columns=feature_columns)\n",
    "linear_est.train(train_input_fn)\n",
    "results = linear_est.evaluate(eval_input_fn)\n",
    "# clear_output()\n",
    "results[\"accuracy\"]"
   ]
  },
  {
   "cell_type": "code",
   "execution_count": null,
   "id": "e76843eb",
   "metadata": {},
   "outputs": [],
   "source": [
    "# tmpdir = tempfile.mkdtemp()\n",
    "\n",
    "serving_input_fn = tf.estimator.export.build_parsing_serving_input_receiver_fn(\n",
    "  tf.feature_column.make_parse_example_spec(feature_columns=feature_columns))\n",
    "\n",
    "# estimator_base_path = os.path.join(tmpdir, 'from_estimator')\n",
    "estimator_path = linear_est.export_saved_model(\"../tf2/\", serving_input_fn)"
   ]
  }
 ],
 "metadata": {
  "kernelspec": {
   "display_name": "tf2",
   "language": "python",
   "name": "python3"
  },
  "language_info": {
   "codemirror_mode": {
    "name": "ipython",
    "version": 3
   },
   "file_extension": ".py",
   "mimetype": "text/x-python",
   "name": "python",
   "nbconvert_exporter": "python",
   "pygments_lexer": "ipython3",
   "version": "3.11.5"
  }
 },
 "nbformat": 4,
 "nbformat_minor": 5
}
